{
 "cells": [
  {
   "cell_type": "code",
   "execution_count": 1,
   "metadata": {},
   "outputs": [
    {
     "name": "stdout",
     "output_type": "stream",
     "text": [
      "/nas/home/pkhanna/CQplus/PatternsLookup\r\n"
     ]
    }
   ],
   "source": [
    "!pwd"
   ]
  },
  {
   "cell_type": "code",
   "execution_count": 112,
   "metadata": {},
   "outputs": [],
   "source": [
    "import pandas as pd \n",
    "\n",
    "import os\n",
    "\n",
    "import IPython\n",
    "import hydra\n",
    "import omegaconf\n",
    "import json\n",
    "import re\n",
    "from tqdm import tqdm\n",
    "\n",
    "from Patterns import PatternUtils\n",
    "\n",
    "from snorkel.labeling import labeling_function\n",
    "\n",
    "from snorkel.labeling.model import LabelModel\n",
    "from snorkel.labeling import PandasLFApplier\n",
    "from snorkel.labeling import LFAnalysis\n",
    "\n",
    "\n",
    "\n",
    "import logging\n",
    "logger = logging.getLogger(__name__)"
   ]
  },
  {
   "cell_type": "code",
   "execution_count": 113,
   "metadata": {},
   "outputs": [],
   "source": [
    "pd.set_option('display.max_colwidth', None)"
   ]
  },
  {
   "cell_type": "code",
   "execution_count": 114,
   "metadata": {},
   "outputs": [],
   "source": [
    "FACT_REGEX = r'([a-zA-Z0-9_\\-\\\\\\/\\+\\* \\'’%]{10,})'\n",
    "\n",
    "REPLACEMENT_REGEX = {\n",
    "        'action': FACT_REGEX,\n",
    "        'precondition': FACT_REGEX,\n",
    "        'negative_precondition': FACT_REGEX,\n",
    "        'precondition_action': FACT_REGEX,\n",
    "        'any_word': r'[^ \\[]{,10}',\n",
    "        'ENB_CONJ': r'(?:so|hence|consequently|thus|therefore|'\n",
    "                    r'as a result|thus|accordingly|because of that|'\n",
    "                    r'as a consequence|as a result)',\n",
    "    }\n",
    "\n",
    "# pattern = \"{action} unless {precondition}\"\n",
    "\n",
    "NEGATIVE_WORDS = [\n",
    "    ' not ',\n",
    "    ' cannot ',\n",
    "    'n\\'t ',\n",
    "    ' don\\\\u2019t ',\n",
    "    ' doesn\\\\u2019t ',\n",
    "]\n",
    "\n",
    "\n",
    "\n",
    "SINGLE_SENTENCE_DISABLING_PATTERNS1 = [\n",
    "    r\"^{action} unless {precondition}\\.\",\n",
    "    r\"\\. {action} unless {precondition}\\.\",\n",
    "    r\"^{any_word} unless {precondition}, {action}\\.\",\n",
    "    r\"^{any_word} unless {precondition}, {action}\\.\",\n",
    "]\n",
    "\n",
    "SINGLE_SENTENCE_DISABLING_PATTERNS2 = [\n",
    "    r\"{negative_precondition} (?:so|hence|consequently) {action}\\.\",\n",
    "]\n",
    "\n",
    "ENABLING_PATTERNS = [\n",
    "    \"{action} only if {precondition}.\",\n",
    "    \"{precondition} (?:so|hence|consequently) {action}.\",\n",
    "    \"{precondition} makes {action} possible.\",\n",
    "]\n",
    "\n",
    "DISABLING_WORDS = [\n",
    "    \"unless\",\n",
    "]\n",
    "\n",
    "\n",
    "\n",
    "\n",
    "\n",
    "ABSTAIN = -1\n",
    "DISABLING = 0\n",
    "ENABLING = 1\n"
   ]
  },
  {
   "cell_type": "code",
   "execution_count": 115,
   "metadata": {},
   "outputs": [],
   "source": [
    "def pattern_exists(pattern,line):\n",
    "    pattern_keys = re.findall(r'\\{([^\\}]+)}', pattern)\n",
    "    replacements = {k: REPLACEMENT_REGEX[k] for k in pattern_keys}    \n",
    "    regex_pattern = pattern.format(**replacements)\n",
    "    m_list = re.findall(regex_pattern, line)\n",
    "    \n",
    "    \n",
    "    for m in m_list:\n",
    "        match_full_sent = line\n",
    "        for sent in line:\n",
    "            if all([ps in sent for ps in m]):\n",
    "                match_full_sent = sent\n",
    "    \n",
    "        match_dict = dict(zip(pattern_keys, m))\n",
    "        if 'negative_precondition' in pattern_keys:\n",
    "                    if not(any([nw in match_dict['negative_precondition'] for nw in PatternUtils.NEGATIVE_WORDS])):\n",
    "                        return False\n",
    "    if len(m_list)>0:\n",
    "        return True\n",
    "    return False\n"
   ]
  },
  {
   "cell_type": "code",
   "execution_count": 138,
   "metadata": {},
   "outputs": [],
   "source": [
    "@labeling_function()\n",
    "def disabling1(x):\n",
    "    for pat in SINGLE_SENTENCE_DISABLING_PATTERNS1:\n",
    "        if pattern_exists(pat,x.text):\n",
    "            return DISABLING\n",
    "    return ABSTAIN\n",
    "\n",
    "\n",
    "@labeling_function()\n",
    "def disabling2(x):\n",
    "    for pat in SINGLE_SENTENCE_DISABLING_PATTERNS2:\n",
    "        if pattern_exists(pat,x.text):\n",
    "            return DISABLING\n",
    "    return ABSTAIN\n",
    "        \n",
    "        \n",
    "@labeling_function()\n",
    "def enabling_onlyif(x):\n",
    "    pat=\"{action} only if {precondition}.\"\n",
    "    if pattern_exists(pat,x.text):\n",
    "        return ENABLING\n",
    "    else:\n",
    "        return ABSTAIN\n",
    "        \n",
    "@labeling_function()\n",
    "def enabling_so_hence_conseq(x):\n",
    "    pat=\"{precondition} (?:so|hence|consequently) {action}.\"\n",
    "    if pattern_exists(pat,x.text):\n",
    "        return ENABLING\n",
    "    else:\n",
    "        return ABSTAIN\n",
    "              \n",
    "@labeling_function()\n",
    "def enabling_makespossible(x):\n",
    "    pat=\"{precondition} makes {action} possible.\"\n",
    "    if pattern_exists(pat,x.text):\n",
    "        return ENABLING\n",
    "    else:\n",
    "        return ABSTAIN"
   ]
  },
  {
   "cell_type": "code",
   "execution_count": 139,
   "metadata": {},
   "outputs": [
    {
     "name": "stderr",
     "output_type": "stream",
     "text": [
      "b'Skipping line 477941: expected 7 fields, saw 8\\n'\n",
      "b'Skipping line 769970: expected 7 fields, saw 8\\nSkipping line 769975: expected 7 fields, saw 8\\n'\n",
      "b'Skipping line 1953542: expected 7 fields, saw 8\\n'\n",
      "/nas/home/pkhanna/anaconda3/lib/python3.8/site-packages/IPython/core/interactiveshell.py:3071: DtypeWarning: Columns (0,2) have mixed types.Specify dtype option on import or set low_memory=False.\n",
      "  has_raised = await self.run_ast_nodes(code_ast.body, cell_name,\n"
     ]
    }
   ],
   "source": [
    "omcs_df = pd.read_csv(\"/nas/home/pkhanna/omcs/omcs-sentences-more.txt\", sep=\"\\t\", error_bad_lines=False)\n",
    "omcs_df['text'] = omcs_df['text'].astype(str)"
   ]
  },
  {
   "cell_type": "code",
   "execution_count": 140,
   "metadata": {},
   "outputs": [],
   "source": [
    "omcs_df2=omcs_df.copy()"
   ]
  },
  {
   "cell_type": "code",
   "execution_count": 141,
   "metadata": {},
   "outputs": [],
   "source": [
    "lfs = [disabling1, disabling2, enabling_onlyif, enabling_so_hence_conseq, enabling_makespossible]"
   ]
  },
  {
   "cell_type": "code",
   "execution_count": 142,
   "metadata": {},
   "outputs": [
    {
     "name": "stderr",
     "output_type": "stream",
     "text": [
      "/nas/home/pkhanna/anaconda3/lib/python3.8/site-packages/tqdm/std.py:668: FutureWarning: The Panel class is removed from pandas. Accessing it from the top-level namespace will also be removed in the next version\n",
      "  from pandas import Panel\n",
      "100%|██████████| 2072251/2072251 [05:04<00:00, 6803.49it/s]\n"
     ]
    },
    {
     "name": "stdout",
     "output_type": "stream",
     "text": [
      "                          j Polarity  Coverage      Overlaps     Conflicts\n",
      "disabling1                0      [0]  0.000023  9.651340e-07  9.651340e-07\n",
      "disabling2                1      [0]  0.000012  1.158161e-05  1.158161e-05\n",
      "enabling_onlyif           2      [1]  0.000013  0.000000e+00  0.000000e+00\n",
      "enabling_so_hence_conseq  3      [1]  0.000716  1.254674e-05  1.254674e-05\n",
      "enabling_makespossible    4      [1]  0.000002  0.000000e+00  0.000000e+00\n"
     ]
    }
   ],
   "source": [
    "# @hydra.main(config_path=\"../Configs\", config_name=\"snorkel_config\")\n",
    "# def main(config: omegaconf.dictconfig.DictConfig):\n",
    "\n",
    "\n",
    "applier = PandasLFApplier(lfs)\n",
    "L_omcs = applier.apply(omcs_df)\n",
    "\n",
    "print(LFAnalysis(L_omcs, lfs).lf_summary())\n",
    "\n",
    "# Train the label model and compute the training labels\n",
    "label_model = LabelModel(cardinality=2, verbose=True)\n",
    "label_model.fit(L_omcs, n_epochs=400, log_freq=50, seed=123)\n",
    "omcs_df[\"label\"] = label_model.predict(L=L_omcs, tie_break_policy=\"abstain\")\n",
    "\n",
    "# omcs_df = omcs_df[omcs_df.label != ABSTAIN]\n",
    "\n",
    "# print(config.output_name)\n",
    "# omcs_df.to_csv(config.output_name)\n",
    "\n"
   ]
  },
  {
   "cell_type": "code",
   "execution_count": 143,
   "metadata": {},
   "outputs": [
    {
     "name": "stdout",
     "output_type": "stream",
     "text": [
      "Label  Count\n",
      "-1    2070692\n",
      " 1       1514\n",
      " 0         45\n",
      "Name: label, dtype: int64\n"
     ]
    }
   ],
   "source": [
    "count = omcs_df[\"label\"].value_counts()\n",
    "print(\"Label  Count\")\n",
    "print(count)"
   ]
  },
  {
   "cell_type": "code",
   "execution_count": 17,
   "metadata": {},
   "outputs": [
    {
     "data": {
      "text/plain": [
       "array([False, False, False, ..., False, False, False])"
      ]
     },
     "execution_count": 17,
     "metadata": {},
     "output_type": "execute_result"
    }
   ],
   "source": [
    "L_omcs[:, 1] == DISABLING"
   ]
  },
  {
   "cell_type": "code",
   "execution_count": 48,
   "metadata": {},
   "outputs": [
    {
     "data": {
      "text/plain": [
       "786212                                                                                                                                                                                                                                                                                                                                                                                                                                                                                                                                                                                                            If you want to hear music then you should not listen so much to overly loud music.\n",
       "909231                                                                                                                                                                                                                                                                                                                                                                                                                                                                                                                             The statement \"Something you find under a desk is legs\" is true because Legs support a desk so it isn't to low for a human to sit at and so it is off the ground.\n",
       "373205                                                                                                                                                                                                                                                                                                                                                                                                                                                                            If you want to strike a match then you should take the match out of the match and then briskly rub it against the match striker thingy at the bottom of the matchbook.  I don't smoke so I'm not too good at this.\n",
       "812086                                                                                                                                                                                                                                                                                                                                                                                                                                                                         To understand the event \"My ears are ringing.  The music is to loud.\", it is important to know that If I stand farther away from the source of the music, the sound will not be so loud and my ears may stop ringing.\n",
       "936392                                                                                                                                                                                                                                                                                                                                                                                                                                                                                                                                                                                                                                          In summertime we don't have to wear so many clothes.\n",
       "852533    The fact \"The work \"lock\" usually refers to a mechanical device that secures a door.  An object called a \"key\" is used to control a lock's function.  When the lock is active, the door cannot be opened.  When the key is inserted and turned, the lock is inactivated and the door can be opened.\" is illustrated with the story:1. Bambi needed to get her suitcase out of the storage shed.2. The door to the storage shed was locked.3. Bambi did not have the key to open the lock so she could not get in.4. Bambi called a locksmith who made her a new key for the lock.5. With the key Bambi was able to unlock the door and retrieve her suitcase from inside the storage shed.\n",
       "591394                                                                                                                                                                                                                                                                                                                                                                                                                                                                                                                                                                                                                          A couple that do not get along can row so loud that it wakes you up.\n",
       "386967                                                                                                                                                                                                                                                                                                                                                                                                                                                                                                                           People don't want to get injured implies that people would use a towel to dry their feet when coming out of a swimming pool so they don't slip and hurt themselves.\n",
       "359996                                                                                                                                                                                                                                                                                                                                                                                                                                                                                                                                                                                                                           God is not capable of creating a stone so large He can not lift it.\n",
       "927763                                                                                                                                                                                                                                                                                                                                                                                                                                                                                                                                                                                           A cruise ship always serves too much food, but you don't gain weight because there's so much to do.\n",
       "Name: text, dtype: object"
      ]
     },
     "execution_count": 48,
     "metadata": {},
     "output_type": "execute_result"
    }
   ],
   "source": [
    "omcs_df.iloc[L_omcs[:, 1] == DISABLING]['text'].sample(10, random_state=1)"
   ]
  },
  {
   "cell_type": "code",
   "execution_count": null,
   "metadata": {},
   "outputs": [],
   "source": [
    "# if __name__ == '__main__':\n",
    "#     main()"
   ]
  },
  {
   "cell_type": "code",
   "execution_count": 19,
   "metadata": {},
   "outputs": [
    {
     "data": {
      "text/plain": [
       "array([[-1, -1, -1, -1, -1],\n",
       "       [-1, -1, -1, -1, -1],\n",
       "       [-1, -1, -1, -1, -1],\n",
       "       ...,\n",
       "       [-1, -1, -1, -1, -1],\n",
       "       [-1, -1, -1, -1, -1],\n",
       "       [-1, -1, -1, -1, -1]])"
      ]
     },
     "execution_count": 19,
     "metadata": {},
     "output_type": "execute_result"
    }
   ],
   "source": [
    "L_omcs"
   ]
  },
  {
   "cell_type": "code",
   "execution_count": 20,
   "metadata": {},
   "outputs": [],
   "source": [
    "from snorkel.analysis import get_label_buckets"
   ]
  },
  {
   "cell_type": "code",
   "execution_count": 29,
   "metadata": {},
   "outputs": [
    {
     "data": {
      "text/plain": [
       "array([-1, -1, -1, ..., -1, -1, -1])"
      ]
     },
     "execution_count": 29,
     "metadata": {},
     "output_type": "execute_result"
    }
   ],
   "source": []
  },
  {
   "cell_type": "code",
   "execution_count": 147,
   "metadata": {},
   "outputs": [
    {
     "name": "stdout",
     "output_type": "stream",
     "text": [
      "3\n"
     ]
    }
   ],
   "source": [
    "buckets = get_label_buckets(L_omcs[:, 1], L_omcs[:, 3])\n",
    "print(len(buckets))\n"
   ]
  },
  {
   "cell_type": "code",
   "execution_count": 148,
   "metadata": {},
   "outputs": [
    {
     "data": {
      "text/plain": [
       "24"
      ]
     },
     "execution_count": 148,
     "metadata": {},
     "output_type": "execute_result"
    }
   ],
   "source": [
    "len(omcs_df.iloc[buckets[(DISABLING, ENABLING)]])"
   ]
  },
  {
   "cell_type": "code",
   "execution_count": 56,
   "metadata": {},
   "outputs": [],
   "source": [
    "#Testing with old RELEVANT-NOT_RELEVANT SCHEME"
   ]
  },
  {
   "cell_type": "code",
   "execution_count": 59,
   "metadata": {},
   "outputs": [],
   "source": []
  },
  {
   "cell_type": "code",
   "execution_count": 122,
   "metadata": {},
   "outputs": [],
   "source": [
    "\n",
    "@labeling_function()\n",
    "def is_a_kind_of(x):\n",
    "    return NOT_RELEVANT if \"is a kind of\" in x.text.lower() else ABSTAIN\n",
    "\n",
    "@labeling_function()\n",
    "def single_sent_disabling_pat1(x):\n",
    "    for pat in SINGLE_SENTENCE_DISABLING_PATTERNS1:\n",
    "        if pattern_exists(pat,x.text):\n",
    "            return RELEVANT\n",
    "        else:\n",
    "            return ABSTAIN\n",
    "\n",
    "\n",
    "@labeling_function()\n",
    "def single_sent_disabling_pat2(x):\n",
    "    for pat in SINGLE_SENTENCE_DISABLING_PATTERNS2:\n",
    "        if pattern_exists(pat,x.text):\n",
    "            return RELEVANT\n",
    "        else:\n",
    "            return ABSTAIN"
   ]
  },
  {
   "cell_type": "code",
   "execution_count": 123,
   "metadata": {},
   "outputs": [],
   "source": [
    "lfs2 = [single_sent_disabling_pat1, single_sent_disabling_pat2,is_a_kind_of]"
   ]
  },
  {
   "cell_type": "code",
   "execution_count": 124,
   "metadata": {},
   "outputs": [],
   "source": [
    "ABSTAIN = -1\n",
    "NOT_RELEVANT = 0\n",
    "RELEVANT = 1"
   ]
  },
  {
   "cell_type": "code",
   "execution_count": 144,
   "metadata": {},
   "outputs": [
    {
     "name": "stderr",
     "output_type": "stream",
     "text": [
      "/nas/home/pkhanna/anaconda3/lib/python3.8/site-packages/tqdm/std.py:668: FutureWarning: The Panel class is removed from pandas. Accessing it from the top-level namespace will also be removed in the next version\n",
      "  from pandas import Panel\n",
      "100%|██████████| 2072251/2072251 [01:53<00:00, 18203.06it/s]\n"
     ]
    },
    {
     "name": "stdout",
     "output_type": "stream",
     "text": [
      "                            j Polarity  Coverage  Overlaps  Conflicts\n",
      "single_sent_disabling_pat1  0      [1]  0.000022       0.0        0.0\n",
      "single_sent_disabling_pat2  1      [1]  0.000012       0.0        0.0\n",
      "is_a_kind_of                2      [0]  0.007130       0.0        0.0\n"
     ]
    }
   ],
   "source": [
    "applier = PandasLFApplier(lfs2)\n",
    "L_omcs2 = applier.apply(omcs_df2)\n",
    "\n",
    "print(LFAnalysis(L_omcs2, lfs2).lf_summary())\n",
    "\n",
    "# Train the label model and compute the training labels\n",
    "label_model = LabelModel(cardinality=2, verbose=True)\n",
    "label_model.fit(L_omcs2, n_epochs=400, log_freq=50, seed=123)\n",
    "omcs_df2[\"label\"] = label_model.predict(L=L_omcs2, tie_break_policy=\"abstain\")"
   ]
  },
  {
   "cell_type": "code",
   "execution_count": 126,
   "metadata": {},
   "outputs": [
    {
     "name": "stdout",
     "output_type": "stream",
     "text": [
      "Label  Count\n",
      "-1    2057406\n",
      " 0      14775\n",
      " 1         70\n",
      "Name: label, dtype: int64\n"
     ]
    }
   ],
   "source": [
    "count = omcs_df2[\"label\"].value_counts()\n",
    "print(\"Label  Count\")\n",
    "print(count)"
   ]
  },
  {
   "cell_type": "code",
   "execution_count": 129,
   "metadata": {},
   "outputs": [
    {
     "name": "stderr",
     "output_type": "stream",
     "text": [
      "100%|██████████| 2072251/2072251 [00:28<00:00, 73252.70it/s]\n"
     ]
    }
   ],
   "source": [
    "tmp_disabling=[]\n",
    "for i in tqdm(range(len(omcs_df))) :\n",
    "    if omcs_df2.loc[i, \"label\"]== RELEVANT and  omcs_df.loc[i, \"label\"]!=DISABLING :\n",
    "        tmp_disabling.append( omcs_df2.loc[i, \"text\"])\n",
    "  "
   ]
  },
  {
   "cell_type": "code",
   "execution_count": 130,
   "metadata": {},
   "outputs": [
    {
     "name": "stdout",
     "output_type": "stream",
     "text": [
      "26\n"
     ]
    }
   ],
   "source": [
    "print(len(tmp_disabling))"
   ]
  },
  {
   "cell_type": "code",
   "execution_count": 137,
   "metadata": {},
   "outputs": [
    {
     "data": {
      "text/plain": [
       "['Situation: What may not be so obvious is how early or how profoundly the quality of listening begins to shape character.',\n",
       " 'The statement \"fatty foods can make you over weight\" is true because The body can\\'t use all the fat you eat so it stores some of it and this causes weight gain.',\n",
       " 'God is not capable of creating a stone so large He can not lift it.',\n",
       " \"If you want to strike a match then you should take the match out of the match and then briskly rub it against the match striker thingy at the bottom of the matchbook.  I don't smoke so I'm not too good at this.\",\n",
       " \"People don't want to get injured implies that people would use a towel to dry their feet when coming out of a swimming pool so they don't slip and hurt themselves.\",\n",
       " 'The fact \"A lot of UFO sightings take place in Nevada.\" is illustrated with the story:1. There was a light overhead from some type of aircraft.2. I couldn\\'t identify the aircraft so I labelled it an unidentified flying object.3. Slang for an unidentified flying object is \"UFO.\"4. I asked some people if they had seen any UFOs in Nevada.5. Many people said yes, but I noticed they were trying to sell me UFO merchandise.',\n",
       " 'The story \"Taking A Break\" has the step \"I couldn\\'t stang waiting so I went back home.\"',\n",
       " \"I couldn't sleep so I got out of bed and typed on my computer.\",\n",
       " 'To understand the event \"It was saturday.  Sam woke up at 11 am.\", it is important to know that Sam probably didn\\'t have to work on Saturday so he was able to sleep in.',\n",
       " 'If we had no defects ourselves, we should not take so much pleasure in noting those of others.',\n",
       " 'A couple that do not get along can row so loud that it wakes you up.',\n",
       " 'The fact \"Something you find in the office is politics\" is illustrated with the story:1. Candace told Shelly that Rita and John were having an affair.2. Shelly does not like to listen to gossip, but she did not tell Candace so because Candace is her boss.3. If Candace does not like Shelly, then Shelly may have a hard time getting promoted.4. Shelly pretends to enjoy listening to the gossip.',\n",
       " \"A statement 'usually when you have a physical examination the doctor will tell you that there is nothing wrong with you' helps answer the question 'that is unless the doctor is a fraud and tells you you're ill so he can make money treating a fake illness.'\",\n",
       " 'To understand the event \"The officer shot the bankrobber in the leg.\", it is important to know that The officer probably didn\\'t want to kill the bankrobber so the officer aimed for the bankrobber\\'s leg.',\n",
       " 'If you want to hear music then you should not listen so much to overly loud music.',\n",
       " 'To understand the event \"My ears are ringing.  The music is to loud.\", it is important to know that If I stand farther away from the source of the music, the sound will not be so loud and my ears may stop ringing.',\n",
       " 'To understand the event \"The baby put his toy in his mouth.\", it is important to know that Toys that are given to babies should not be so small they will fit all the way inside a baby\\'s mouth or they could choke on it.',\n",
       " \"a person doesn't want other people to be so damn noisy.\",\n",
       " 'Employers must provide reasonable accommodations to qualified individuals with psychiatric disabilities unless doing so would cause an undue burden.',\n",
       " 'The fact \"The work \"lock\" usually refers to a mechanical device that secures a door.  An object called a \"key\" is used to control a lock\\'s function.  When the lock is active, the door cannot be opened.  When the key is inserted and turned, the lock is inactivated and the door can be opened.\" is illustrated with the story:1. Bambi needed to get her suitcase out of the storage shed.2. The door to the storage shed was locked.3. Bambi did not have the key to open the lock so she could not get in.4. Bambi called a locksmith who made her a new key for the lock.5. With the key Bambi was able to unlock the door and retrieve her suitcase from inside the storage shed.',\n",
       " 'The statement \"Something you find under a desk is legs\" is true because Legs support a desk so it isn\\'t to low for a human to sit at and so it is off the ground.',\n",
       " \"A cruise ship always serves too much food, but you don't gain weight because there's so much to do.\",\n",
       " \"In summertime we don't have to wear so many clothes.\",\n",
       " 'If you want to take a midterm then you should not get so drunk on spring break you forget to go back to college.',\n",
       " \"Diesel gas isn't used by all so it's unpopular.\",\n",
       " 'The statement \"picture description: First assumption upon seeing it is that it is n animal because I can see legs. However I see 4 pairs of legs. No animal I know of of that shape,color,size, or one who would be in that enviroment, which looks to me like a field with some trees in the background, has 8 legs. Therefore I am looking to see if it is two animals. I can see two heads and two tails. I now am assuming from it\\'s size, shape and color it is two horses who are rubbing their heads against each other. \" is true because This statement cannot be said to have a truth value. It is neither true nor false, it is simply an observation. Furthermore, I cannot see the picture that is being described and so cannot contribute anything useful at all.']"
      ]
     },
     "execution_count": 137,
     "metadata": {},
     "output_type": "execute_result"
    }
   ],
   "source": [
    "tmp_disabling"
   ]
  },
  {
   "cell_type": "code",
   "execution_count": 109,
   "metadata": {},
   "outputs": [
    {
     "data": {
      "text/plain": [
       "70"
      ]
     },
     "execution_count": 109,
     "metadata": {},
     "output_type": "execute_result"
    }
   ],
   "source": [
    "old_relevant=omcs_df2[omcs_df2['label']==RELEVANT]['text']\n",
    "len(old_relevant)"
   ]
  },
  {
   "cell_type": "code",
   "execution_count": 110,
   "metadata": {},
   "outputs": [
    {
     "data": {
      "text/plain": [
       "14775"
      ]
     },
     "execution_count": 110,
     "metadata": {},
     "output_type": "execute_result"
    }
   ],
   "source": [
    "new_disabling=omcs_df[omcs_df['label']==DISABLING]['text']\n",
    "len(new_disabling)"
   ]
  },
  {
   "cell_type": "code",
   "execution_count": 111,
   "metadata": {},
   "outputs": [
    {
     "data": {
      "text/plain": [
       "True"
      ]
     },
     "execution_count": 111,
     "metadata": {},
     "output_type": "execute_result"
    }
   ],
   "source": [
    "omcs_df.equals(omcs_df2)"
   ]
  },
  {
   "cell_type": "code",
   "execution_count": 72,
   "metadata": {},
   "outputs": [
    {
     "data": {
      "text/plain": [
       "array([ 288351,  292372,  315913,  315960,  322179,  346685,  356218,\n",
       "        388020,  405038,  405156,  444508,  526092,  538873,  580547,\n",
       "        593125,  608205,  611647,  613971,  615472,  615475,  617211,\n",
       "        627355,  651230,  679126,  682420,  753745,  771643,  772080,\n",
       "        785084,  786925,  794186,  826681,  848475,  850473,  852105,\n",
       "        869354,  879880,  915718,  938607,  948261,  956306,  985002,\n",
       "        986702,  990504,  995309, 1009710])"
      ]
     },
     "execution_count": 72,
     "metadata": {},
     "output_type": "execute_result"
    }
   ],
   "source": [
    "buckets[(DISABLING, ABSTAIN)]"
   ]
  },
  {
   "cell_type": "code",
   "execution_count": 73,
   "metadata": {},
   "outputs": [
    {
     "data": {
      "text/plain": [
       "46"
      ]
     },
     "execution_count": 73,
     "metadata": {},
     "output_type": "execute_result"
    }
   ],
   "source": [
    "buckets = get_label_buckets(L_omcs[:, 1], L_omcs2[:, 2])\n",
    "len(buckets[(ABSTAIN, RELEVANT)])    #single_pat_disabling1- DISABLING in new but ABSTAIN in old."
   ]
  },
  {
   "cell_type": "code",
   "execution_count": 74,
   "metadata": {},
   "outputs": [
    {
     "data": {
      "text/html": [
       "<div>\n",
       "<style scoped>\n",
       "    .dataframe tbody tr th:only-of-type {\n",
       "        vertical-align: middle;\n",
       "    }\n",
       "\n",
       "    .dataframe tbody tr th {\n",
       "        vertical-align: top;\n",
       "    }\n",
       "\n",
       "    .dataframe thead th {\n",
       "        text-align: right;\n",
       "    }\n",
       "</style>\n",
       "<table border=\"1\" class=\"dataframe\">\n",
       "  <thead>\n",
       "    <tr style=\"text-align: right;\">\n",
       "      <th></th>\n",
       "      <th>id</th>\n",
       "      <th>text</th>\n",
       "      <th>creator_id</th>\n",
       "      <th>created_on</th>\n",
       "      <th>language_id</th>\n",
       "      <th>activity_id</th>\n",
       "      <th>score</th>\n",
       "      <th>label</th>\n",
       "    </tr>\n",
       "  </thead>\n",
       "  <tbody>\n",
       "    <tr>\n",
       "      <th>852105</th>\n",
       "      <td>927390</td>\n",
       "      <td>A contract is not legally valid unless it has been signed by all parties involved.</td>\n",
       "      <td>3834</td>\n",
       "      <td>2006-11-14 16:25:09.502985-05</td>\n",
       "      <td>en</td>\n",
       "      <td>27.0</td>\n",
       "      <td>1.0</td>\n",
       "      <td>1</td>\n",
       "    </tr>\n",
       "    <tr>\n",
       "      <th>986702</th>\n",
       "      <td>751504</td>\n",
       "      <td>you are not likely to find a jellyfish in the sea unless you look for a long time.</td>\n",
       "      <td>280</td>\n",
       "      <td>2006-11-14 15:26:25.982185-05</td>\n",
       "      <td>en</td>\n",
       "      <td>27.0</td>\n",
       "      <td>1.0</td>\n",
       "      <td>1</td>\n",
       "    </tr>\n",
       "    <tr>\n",
       "      <th>315913</th>\n",
       "      <td>1256935</td>\n",
       "      <td>Swimming pools have cold water in the winter unless they are heated.</td>\n",
       "      <td>8548</td>\n",
       "      <td>2006-11-14 18:02:40.213163-05</td>\n",
       "      <td>en</td>\n",
       "      <td>27.0</td>\n",
       "      <td>1.0</td>\n",
       "      <td>1</td>\n",
       "    </tr>\n",
       "    <tr>\n",
       "      <th>627355</th>\n",
       "      <td>1241371</td>\n",
       "      <td>Only having one shoe does you no good unless you only have one foot.</td>\n",
       "      <td>10824</td>\n",
       "      <td>2006-11-14 17:58:01.635563-05</td>\n",
       "      <td>en</td>\n",
       "      <td>27.0</td>\n",
       "      <td>1.0</td>\n",
       "      <td>1</td>\n",
       "    </tr>\n",
       "    <tr>\n",
       "      <th>315960</th>\n",
       "      <td>1256958</td>\n",
       "      <td>Reading about myths requires sight unless you can read Braille.</td>\n",
       "      <td>8548</td>\n",
       "      <td>2006-11-14 18:02:40.646305-05</td>\n",
       "      <td>en</td>\n",
       "      <td>27.0</td>\n",
       "      <td>1.0</td>\n",
       "      <td>1</td>\n",
       "    </tr>\n",
       "    <tr>\n",
       "      <th>785084</th>\n",
       "      <td>1011769</td>\n",
       "      <td>One should not promote friends into management positions unless they have appropriate management experience and are willing to openly disagree.</td>\n",
       "      <td>393</td>\n",
       "      <td>2006-11-14 16:49:57.266426-05</td>\n",
       "      <td>en</td>\n",
       "      <td>27.0</td>\n",
       "      <td>1.0</td>\n",
       "      <td>1</td>\n",
       "    </tr>\n",
       "    <tr>\n",
       "      <th>679126</th>\n",
       "      <td>1893930</td>\n",
       "      <td>A statement 'usually when you have a physical examination the doctor will tell you that there is nothing wrong with you' helps answer the question 'that is unless the doctor is a fraud and tells you you're ill so he can make money treating a fake illness.'</td>\n",
       "      <td>6348</td>\n",
       "      <td>2009-04-14 22:20:33.101204-04</td>\n",
       "      <td>en</td>\n",
       "      <td>41.0</td>\n",
       "      <td>1.0</td>\n",
       "      <td>1</td>\n",
       "    </tr>\n",
       "    <tr>\n",
       "      <th>826681</th>\n",
       "      <td>963010</td>\n",
       "      <td>A man who is a sports fan cannot be truely happy unless he is amongst other men who share his enthusiasm.</td>\n",
       "      <td>4647</td>\n",
       "      <td>2006-11-14 16:35:37.477115-05</td>\n",
       "      <td>en</td>\n",
       "      <td>27.0</td>\n",
       "      <td>1.0</td>\n",
       "      <td>1</td>\n",
       "    </tr>\n",
       "    <tr>\n",
       "      <th>682420</th>\n",
       "      <td>1890449</td>\n",
       "      <td>people can do not normally kill themselves unless they cannot see any point in continuing to live. depression causes people to think there is no point to continuing to live</td>\n",
       "      <td>6348</td>\n",
       "      <td>2009-04-14 22:00:22.627317-04</td>\n",
       "      <td>en</td>\n",
       "      <td>41.0</td>\n",
       "      <td>1.0</td>\n",
       "      <td>1</td>\n",
       "    </tr>\n",
       "    <tr>\n",
       "      <th>651230</th>\n",
       "      <td>1072766</td>\n",
       "      <td>You probably shouldn't attempt to fix any electrical product unless you know exactly what your doing.</td>\n",
       "      <td>4647</td>\n",
       "      <td>2006-11-14 17:07:55.206733-05</td>\n",
       "      <td>en</td>\n",
       "      <td>27.0</td>\n",
       "      <td>1.0</td>\n",
       "      <td>1</td>\n",
       "    </tr>\n",
       "  </tbody>\n",
       "</table>\n",
       "</div>"
      ],
      "text/plain": [
       "             id  \\\n",
       "852105   927390   \n",
       "986702   751504   \n",
       "315913  1256935   \n",
       "627355  1241371   \n",
       "315960  1256958   \n",
       "785084  1011769   \n",
       "679126  1893930   \n",
       "826681   963010   \n",
       "682420  1890449   \n",
       "651230  1072766   \n",
       "\n",
       "                                                                                                                                                                                                                                                                    text  \\\n",
       "852105                                                                                                                                                                                A contract is not legally valid unless it has been signed by all parties involved.   \n",
       "986702                                                                                                                                                                                you are not likely to find a jellyfish in the sea unless you look for a long time.   \n",
       "315913                                                                                                                                                                                              Swimming pools have cold water in the winter unless they are heated.   \n",
       "627355                                                                                                                                                                                              Only having one shoe does you no good unless you only have one foot.   \n",
       "315960                                                                                                                                                                                                   Reading about myths requires sight unless you can read Braille.   \n",
       "785084                                                                                                                   One should not promote friends into management positions unless they have appropriate management experience and are willing to openly disagree.   \n",
       "679126  A statement 'usually when you have a physical examination the doctor will tell you that there is nothing wrong with you' helps answer the question 'that is unless the doctor is a fraud and tells you you're ill so he can make money treating a fake illness.'   \n",
       "826681                                                                                                                                                         A man who is a sports fan cannot be truely happy unless he is amongst other men who share his enthusiasm.   \n",
       "682420                                                                                      people can do not normally kill themselves unless they cannot see any point in continuing to live. depression causes people to think there is no point to continuing to live   \n",
       "651230                                                                                                                                                             You probably shouldn't attempt to fix any electrical product unless you know exactly what your doing.   \n",
       "\n",
       "       creator_id                     created_on language_id  activity_id  \\\n",
       "852105       3834  2006-11-14 16:25:09.502985-05          en         27.0   \n",
       "986702        280  2006-11-14 15:26:25.982185-05          en         27.0   \n",
       "315913       8548  2006-11-14 18:02:40.213163-05          en         27.0   \n",
       "627355      10824  2006-11-14 17:58:01.635563-05          en         27.0   \n",
       "315960       8548  2006-11-14 18:02:40.646305-05          en         27.0   \n",
       "785084        393  2006-11-14 16:49:57.266426-05          en         27.0   \n",
       "679126       6348  2009-04-14 22:20:33.101204-04          en         41.0   \n",
       "826681       4647  2006-11-14 16:35:37.477115-05          en         27.0   \n",
       "682420       6348  2009-04-14 22:00:22.627317-04          en         41.0   \n",
       "651230       4647  2006-11-14 17:07:55.206733-05          en         27.0   \n",
       "\n",
       "        score  label  \n",
       "852105    1.0      1  \n",
       "986702    1.0      1  \n",
       "315913    1.0      1  \n",
       "627355    1.0      1  \n",
       "315960    1.0      1  \n",
       "785084    1.0      1  \n",
       "679126    1.0      1  \n",
       "826681    1.0      1  \n",
       "682420    1.0      1  \n",
       "651230    1.0      1  "
      ]
     },
     "execution_count": 74,
     "metadata": {},
     "output_type": "execute_result"
    }
   ],
   "source": [
    "omcs_df.iloc[buckets[(DISABLING, ABSTAIN)]].sample(10, random_state=1)"
   ]
  },
  {
   "cell_type": "code",
   "execution_count": 136,
   "metadata": {},
   "outputs": [
    {
     "ename": "KeyError",
     "evalue": "(1, 1)",
     "output_type": "error",
     "traceback": [
      "\u001b[0;31m---------------------------------------------------------------------------\u001b[0m",
      "\u001b[0;31mKeyError\u001b[0m                                  Traceback (most recent call last)",
      "\u001b[0;32m<ipython-input-136-7144755980d1>\u001b[0m in \u001b[0;36m<module>\u001b[0;34m\u001b[0m\n\u001b[1;32m      1\u001b[0m \u001b[0mbuckets\u001b[0m \u001b[0;34m=\u001b[0m \u001b[0mget_label_buckets\u001b[0m\u001b[0;34m(\u001b[0m\u001b[0mL_omcs\u001b[0m\u001b[0;34m[\u001b[0m\u001b[0;34m:\u001b[0m\u001b[0;34m,\u001b[0m \u001b[0;36m1\u001b[0m\u001b[0;34m]\u001b[0m\u001b[0;34m,\u001b[0m \u001b[0mL_omcs2\u001b[0m\u001b[0;34m[\u001b[0m\u001b[0;34m:\u001b[0m\u001b[0;34m,\u001b[0m \u001b[0;36m2\u001b[0m\u001b[0;34m]\u001b[0m\u001b[0;34m)\u001b[0m\u001b[0;34m\u001b[0m\u001b[0;34m\u001b[0m\u001b[0m\n\u001b[0;32m----> 2\u001b[0;31m \u001b[0mlen\u001b[0m\u001b[0;34m(\u001b[0m\u001b[0mbuckets\u001b[0m\u001b[0;34m[\u001b[0m\u001b[0;34m(\u001b[0m\u001b[0mENABLING\u001b[0m\u001b[0;34m,\u001b[0m \u001b[0mRELEVANT\u001b[0m\u001b[0;34m)\u001b[0m\u001b[0;34m]\u001b[0m\u001b[0;34m)\u001b[0m    \u001b[0;31m#single_pat_disabling2- DISABLING in new but ABSTAIN in old.\u001b[0m\u001b[0;34m\u001b[0m\u001b[0;34m\u001b[0m\u001b[0m\n\u001b[0m",
      "\u001b[0;31mKeyError\u001b[0m: (1, 1)"
     ]
    }
   ],
   "source": [
    "buckets = get_label_buckets(L_omcs[:, 1], L_omcs2[:, 2])\n",
    "len(buckets[(ENABLING, RELEVANT)])    #single_pat_disabling2- DISABLING in new but ABSTAIN in old."
   ]
  },
  {
   "cell_type": "code",
   "execution_count": 78,
   "metadata": {},
   "outputs": [
    {
     "name": "stdout",
     "output_type": "stream",
     "text": [
      "Label  Count\n",
      "-1    2057406\n",
      " 0      14775\n",
      " 1         70\n",
      "Name: label, dtype: int64\n"
     ]
    }
   ],
   "source": []
  },
  {
   "cell_type": "code",
   "execution_count": 79,
   "metadata": {},
   "outputs": [
    {
     "name": "stdout",
     "output_type": "stream",
     "text": [
      "Label  Count\n",
      "-1    2057406\n",
      " 0      14775\n",
      " 1         70\n",
      "Name: label, dtype: int64\n"
     ]
    }
   ],
   "source": [
    "count = omcs_df[\"label\"].value_counts()\n",
    "print(\"Label  Count\")\n",
    "print(count)"
   ]
  },
  {
   "cell_type": "code",
   "execution_count": null,
   "metadata": {},
   "outputs": [],
   "source": []
  }
 ],
 "metadata": {
  "kernelspec": {
   "display_name": "Python 3",
   "language": "python",
   "name": "python3"
  },
  "language_info": {
   "codemirror_mode": {
    "name": "ipython",
    "version": 3
   },
   "file_extension": ".py",
   "mimetype": "text/x-python",
   "name": "python",
   "nbconvert_exporter": "python",
   "pygments_lexer": "ipython3",
   "version": "3.8.3"
  }
 },
 "nbformat": 4,
 "nbformat_minor": 4
}
